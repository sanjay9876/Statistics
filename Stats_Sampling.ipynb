{
 "cells": [
  {
   "cell_type": "markdown",
   "metadata": {},
   "source": [
    "# C4 Sampling"
   ]
  },
  {
   "cell_type": "code",
   "execution_count": 1,
   "metadata": {},
   "outputs": [],
   "source": [
    "import statistics as stats\n",
    "import random\n",
    "import matplotlib.pyplot as plt"
   ]
  },
  {
   "cell_type": "code",
   "execution_count": 2,
   "metadata": {},
   "outputs": [],
   "source": [
    "random.seed(1234567890) # to make it repeatable with same values"
   ]
  },
  {
   "cell_type": "markdown",
   "metadata": {},
   "source": [
    "# This is Population\n",
    "# Synthetic data for adult male heights, mean=175, Stdev=50"
   ]
  },
  {
   "cell_type": "code",
   "execution_count": 3,
   "metadata": {},
   "outputs": [
    {
     "name": "stdout",
     "output_type": "stream",
     "text": [
      "194.7778331233452\n"
     ]
    }
   ],
   "source": [
    "mean_adult_male_height = 175\n",
    "stdev_adult_male_height = 10\n",
    "myNum = random.normalvariate(mean_adult_male_height,stdev_adult_male_height)\n",
    "print(myNum)"
   ]
  },
  {
   "cell_type": "code",
   "execution_count": 4,
   "metadata": {},
   "outputs": [],
   "source": [
    "million_adult_males = []\n",
    "my_count = 1000000 # country has 1 million adult males\n",
    "for kk in range(my_count):\n",
    "    myNum = random.normalvariate(mean_adult_male_height,stdev_adult_male_height)\n",
    "    rnd_myNum = round(myNum,1)\n",
    "    million_adult_males.append(rnd_myNum)"
   ]
  },
  {
   "cell_type": "code",
   "execution_count": 5,
   "metadata": {},
   "outputs": [
    {
     "name": "stdout",
     "output_type": "stream",
     "text": [
      "[170.0, 170.4, 164.1, 162.4, 186.4, 153.2, 164.2, 191.6, 161.4, 198.2]\n"
     ]
    }
   ],
   "source": [
    "print(million_adult_males[0:10])"
   ]
  },
  {
   "cell_type": "code",
   "execution_count": 6,
   "metadata": {},
   "outputs": [
    {
     "name": "stdout",
     "output_type": "stream",
     "text": [
      "[174.6, 171.8, 171.1, 174.0, 176.1, 168.1, 177.2, 182.6, 163.6, 186.9]\n"
     ]
    }
   ],
   "source": [
    "print(million_adult_males[-10:])"
   ]
  },
  {
   "cell_type": "code",
   "execution_count": 7,
   "metadata": {},
   "outputs": [
    {
     "data": {
      "image/png": "[encoded data removed]",
      "text/plain": [
       "<Figure size 432x288 with 1 Axes>"
      ]
     },
     "metadata": {
      "needs_background": "light"
     },
     "output_type": "display_data"
    }
   ],
   "source": [
    "plt.plot(million_adult_males) # can be any list\n",
    "plt.show()"
   ]
  },
  {
   "cell_type": "markdown",
   "metadata": {},
   "source": [
    "# Plot distribution for population"
   ]
  },
  {
   "cell_type": "code",
   "execution_count": 8,
   "metadata": {},
   "outputs": [
    {
     "data": {
      "image/png": "[encoded data removed]",
      "text/plain": [
       "<Figure size 432x288 with 1 Axes>"
      ]
     },
     "metadata": {
      "needs_background": "light"
     },
     "output_type": "display_data"
    }
   ],
   "source": [
    "plt.hist(million_adult_males,bins=60)\n",
    "plt.xlabel(\"height\")\n",
    "plt.ylabel(\"count\")\n",
    "plt.show()"
   ]
  },
  {
   "cell_type": "markdown",
   "metadata": {},
   "source": [
    "# Mean and Stdev for \"Population\""
   ]
  },
  {
   "cell_type": "code",
   "execution_count": 9,
   "metadata": {},
   "outputs": [
    {
     "name": "stdout",
     "output_type": "stream",
     "text": [
      "Population mean =  175.0167999\n"
     ]
    }
   ],
   "source": [
    "pop_mean = stats.mean(million_adult_males)\n",
    "print(\"Population mean = \",pop_mean)"
   ]
  },
  {
   "cell_type": "code",
   "execution_count": 10,
   "metadata": {},
   "outputs": [
    {
     "name": "stdout",
     "output_type": "stream",
     "text": [
      "Population Stdev =  10.001741386046731\n"
     ]
    }
   ],
   "source": [
    "pop_stdev = stats.pstdev(million_adult_males)\n",
    "print(\"Population Stdev = \",pop_stdev)"
   ]
  },
  {
   "cell_type": "markdown",
   "metadata": {},
   "source": [
    "# Sample 1 and 2 are of size 10,000"
   ]
  },
  {
   "cell_type": "code",
   "execution_count": 11,
   "metadata": {},
   "outputs": [],
   "source": [
    "sample_size_10k = 10000"
   ]
  },
  {
   "cell_type": "code",
   "execution_count": 12,
   "metadata": {},
   "outputs": [],
   "source": [
    "# https://en.wikipedia.org/wiki/Margin_of_error\n",
    "# https://www.dummies.com/education/math/statistics/how-sample-size-affects-the-margin-of-error/"
   ]
  },
  {
   "cell_type": "code",
   "execution_count": 13,
   "metadata": {},
   "outputs": [
    {
     "name": "stdout",
     "output_type": "stream",
     "text": [
      "10000\n"
     ]
    }
   ],
   "source": [
    "sample1_10k = random.sample(million_adult_males,sample_size_10k)\n",
    "print(len(sample1_10k))"
   ]
  },
  {
   "cell_type": "code",
   "execution_count": 14,
   "metadata": {},
   "outputs": [
    {
     "name": "stdout",
     "output_type": "stream",
     "text": [
      "Sample1 mean =  175.13159\n"
     ]
    }
   ],
   "source": [
    "sam1_mean = stats.mean(sample1_10k)\n",
    "print(\"Sample1 mean = \",sam1_mean)"
   ]
  },
  {
   "cell_type": "code",
   "execution_count": 15,
   "metadata": {},
   "outputs": [
    {
     "name": "stdout",
     "output_type": "stream",
     "text": [
      "Sample1 Stdev =  9.970912444776463\n"
     ]
    }
   ],
   "source": [
    "sam1_stdev = stats.stdev(sample1_10k)\n",
    "print(\"Sample1 Stdev = \",sam1_stdev)"
   ]
  },
  {
   "cell_type": "markdown",
   "metadata": {},
   "source": [
    "# Sample 2"
   ]
  },
  {
   "cell_type": "code",
   "execution_count": 16,
   "metadata": {},
   "outputs": [
    {
     "name": "stdout",
     "output_type": "stream",
     "text": [
      "10000\n"
     ]
    }
   ],
   "source": [
    "sample2_10k = random.sample(million_adult_males,sample_size_10k)\n",
    "print(len(sample2_10k))"
   ]
  },
  {
   "cell_type": "code",
   "execution_count": 17,
   "metadata": {},
   "outputs": [
    {
     "name": "stdout",
     "output_type": "stream",
     "text": [
      "Sample2 mean =  174.95608\n"
     ]
    }
   ],
   "source": [
    "sam2_mean = stats.mean(sample2_10k)\n",
    "print(\"Sample2 mean = \",sam2_mean)"
   ]
  },
  {
   "cell_type": "code",
   "execution_count": 18,
   "metadata": {},
   "outputs": [
    {
     "name": "stdout",
     "output_type": "stream",
     "text": [
      "Sample2 Stdev =  9.98302975663762\n"
     ]
    }
   ],
   "source": [
    "sam2_stdev = stats.stdev(sample2_10k)\n",
    "print(\"Sample2 Stdev = \",sam2_stdev)"
   ]
  },
  {
   "cell_type": "code",
   "execution_count": 19,
   "metadata": {},
   "outputs": [],
   "source": [
    "# What is a reasonable sample size? Depends on your margin of error (MOE)"
   ]
  },
  {
   "cell_type": "code",
   "execution_count": 20,
   "metadata": {},
   "outputs": [],
   "source": [
    "# https://www.sophia.org/tutorials/finding-sample-size-with-predetermined-margin-of-e--2\n",
    "# n = [(1.96)^2 * (sigma)^2]/E^2"
   ]
  },
  {
   "cell_type": "code",
   "execution_count": 21,
   "metadata": {},
   "outputs": [],
   "source": [
    "# The challenge is to find the characteristics of the population\n",
    "# from the sample.\n",
    "# Examples:\n",
    "# Sample of apples from the orchard\n",
    "# Sample of people who came to vote\n",
    "# Sample of students in the university\n",
    "\n",
    "# Based on sample, we are able to understand the population with\n",
    "# desired level of error."
   ]
  },
  {
   "cell_type": "markdown",
   "metadata": {},
   "source": [
    "# Sample 3 and 4 are of size 1,000"
   ]
  },
  {
   "cell_type": "code",
   "execution_count": 22,
   "metadata": {},
   "outputs": [],
   "source": [
    "sample_size_1k = 1000"
   ]
  },
  {
   "cell_type": "code",
   "execution_count": 23,
   "metadata": {},
   "outputs": [
    {
     "name": "stdout",
     "output_type": "stream",
     "text": [
      "1000\n"
     ]
    }
   ],
   "source": [
    "sample3_1k = random.sample(million_adult_males,sample_size_1k)\n",
    "print(len(sample3_1k))"
   ]
  },
  {
   "cell_type": "code",
   "execution_count": 24,
   "metadata": {},
   "outputs": [
    {
     "name": "stdout",
     "output_type": "stream",
     "text": [
      "Sample3 mean =  175.0939\n"
     ]
    }
   ],
   "source": [
    "sam3_mean = stats.mean(sample3_1k)\n",
    "print(\"Sample3 mean = \",sam3_mean)"
   ]
  },
  {
   "cell_type": "code",
   "execution_count": 25,
   "metadata": {},
   "outputs": [
    {
     "name": "stdout",
     "output_type": "stream",
     "text": [
      "Sample3 Stdev =  10.322624150832935\n"
     ]
    }
   ],
   "source": [
    "sam3_stdev = stats.stdev(sample3_1k)\n",
    "print(\"Sample3 Stdev = \",sam3_stdev)"
   ]
  },
  {
   "cell_type": "markdown",
   "metadata": {},
   "source": [
    "# Sample 4"
   ]
  },
  {
   "cell_type": "code",
   "execution_count": 26,
   "metadata": {},
   "outputs": [
    {
     "name": "stdout",
     "output_type": "stream",
     "text": [
      "1000\n"
     ]
    }
   ],
   "source": [
    "sample4_1k = random.sample(million_adult_males,sample_size_1k)\n",
    "print(len(sample4_1k))"
   ]
  },
  {
   "cell_type": "code",
   "execution_count": 27,
   "metadata": {},
   "outputs": [
    {
     "name": "stdout",
     "output_type": "stream",
     "text": [
      "Sample4 mean =  175.1398\n"
     ]
    }
   ],
   "source": [
    "sam4_mean = stats.mean(sample4_1k)\n",
    "print(\"Sample4 mean = \",sam4_mean)"
   ]
  },
  {
   "cell_type": "code",
   "execution_count": 28,
   "metadata": {},
   "outputs": [
    {
     "name": "stdout",
     "output_type": "stream",
     "text": [
      "Sample4 Stdev =  10.02398904210875\n"
     ]
    }
   ],
   "source": [
    "sam4_stdev = stats.stdev(sample4_1k)\n",
    "print(\"Sample4 Stdev = \",sam4_stdev)"
   ]
  },
  {
   "cell_type": "code",
   "execution_count": 29,
   "metadata": {},
   "outputs": [
    {
     "name": "stdout",
     "output_type": "stream",
     "text": [
      "[175.0167999, 175.13159, 174.95608, 175.0939, 175.1398]\n"
     ]
    }
   ],
   "source": [
    "means = [pop_mean,sam1_mean,sam2_mean,sam3_mean,sam4_mean]\n",
    "print(means)"
   ]
  },
  {
   "cell_type": "code",
   "execution_count": 30,
   "metadata": {},
   "outputs": [],
   "source": [
    "labels = [\"pop_mean\",\"sam1_mean\",\"sam2_mean\",\"sam3_mean\",\"sam4_mean\"]"
   ]
  },
  {
   "cell_type": "code",
   "execution_count": 31,
   "metadata": {},
   "outputs": [
    {
     "data": {
      "image/png": "[encoded data removed]",
      "text/plain": [
       "<Figure size 432x288 with 1 Axes>"
      ]
     },
     "metadata": {
      "needs_background": "light"
     },
     "output_type": "display_data"
    }
   ],
   "source": [
    "# Plot pop and sample means\n",
    "plt.plot(labels,means,'bo')\n",
    "plt.grid()\n",
    "plt.show()"
   ]
  },
  {
   "cell_type": "code",
   "execution_count": null,
   "metadata": {},
   "outputs": [],
   "source": []
  }
 ],
 "metadata": {
  "kernelspec": {
   "display_name": "Python 3",
   "language": "python",
   "name": "python3"
  },
  "language_info": {
   "codemirror_mode": {
    "name": "ipython",
    "version": 3
   },
   "file_extension": ".py",
   "mimetype": "text/x-python",
   "name": "python",
   "nbconvert_exporter": "python",
   "pygments_lexer": "ipython3",
   "version": "3.8.3"
  }
 },
 "nbformat": 4,
 "nbformat_minor": 2
}
